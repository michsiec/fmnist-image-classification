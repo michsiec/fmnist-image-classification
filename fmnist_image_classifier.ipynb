{
  "nbformat": 4,
  "nbformat_minor": 0,
  "metadata": {
    "colab": {
      "provenance": [],
      "authorship_tag": "ABX9TyPriUKGsvAM4WNgOOGZbvPp",
      "include_colab_link": true
    },
    "kernelspec": {
      "name": "python3",
      "display_name": "Python 3"
    },
    "language_info": {
      "name": "python"
    }
  },
  "cells": [
    {
      "cell_type": "markdown",
      "metadata": {
        "id": "view-in-github",
        "colab_type": "text"
      },
      "source": [
        "<a href=\"https://colab.research.google.com/github/michsiec/fmnist-image-classification/blob/main/fmnist_image_classifier.ipynb\" target=\"_parent\"><img src=\"https://colab.research.google.com/assets/colab-badge.svg\" alt=\"Open In Colab\"/></a>"
      ]
    },
    {
      "cell_type": "markdown",
      "source": [
        "# Building a Neural Network using TensorFlow for Fashion-MNIST dataset clothes recognition\n",
        "\n",
        "[Fashion-MNIST dataset](https://www.tensorflow.org/datasets/catalog/fashion_mnist) contains 70,000 images in 10 categories. Each image is of size 28x28.\n",
        "\n",
        "In the following notebook, few models has been built, trained, and evaluated in order to achieve satisfying metrics.\n",
        "\n"
      ],
      "metadata": {
        "id": "Wztkc-epoouB"
      }
    },
    {
      "cell_type": "code",
      "execution_count": null,
      "metadata": {
        "id": "Ei0mWr-doUJo"
      },
      "outputs": [],
      "source": [
        "import tensorflow as tf\n",
        "import pandas as pd\n",
        "import numpy as np\n",
        "import matplotlib.pyplot as plt\n",
        "from sklearn.metrics import mean_squared_error\n",
        "from sklearn.model_selection import train_test_split"
      ]
    },
    {
      "cell_type": "code",
      "source": [
        "# Install TensorBoard\n",
        "%pip install -q -U tensorboard-plugin-profile "
      ],
      "metadata": {
        "id": "bKn0jKTUIKYq"
      },
      "execution_count": null,
      "outputs": []
    },
    {
      "cell_type": "code",
      "source": [
        "# This function generates the path of the log subdirectory based on the current date and time so that it's different at each run\n",
        "from pathlib import Path\n",
        "from time import strftime\n",
        "\n",
        "def get_run_logdir(root_logdir = \"my_logs\"):\n",
        "  return Path(root_logdir) / strftime(\"run%Y_%m_%d_%H_%M_%S\")\n",
        "\n",
        "run_logdir = get_run_logdir() # e.g., my_logs/run_2022_12_05_16_21_37"
      ],
      "metadata": {
        "id": "4WbuisbkLsAz"
      },
      "execution_count": null,
      "outputs": []
    },
    {
      "cell_type": "markdown",
      "source": [
        "### Loading and splitting the data"
      ],
      "metadata": {
        "id": "sCVD58EvrLAi"
      }
    },
    {
      "cell_type": "code",
      "source": [
        "fashion_mnist = tf.keras.datasets.fashion_mnist.load_data()\n",
        "(X_train_full, y_train_full), (X_test, y_test) = fashion_mnist\n",
        "\n",
        "X_train, y_train = X_train_full[:-5000], y_train_full[:-5000]\n",
        "X_valid, y_valid = X_train_full[-5000:], y_train_full[-5000:]"
      ],
      "metadata": {
        "id": "i5Xv36siphEX"
      },
      "execution_count": null,
      "outputs": []
    },
    {
      "cell_type": "code",
      "source": [
        "# Shape and data type of the training set\n",
        "X_train.shape, X_train.dtype"
      ],
      "metadata": {
        "colab": {
          "base_uri": "https://localhost:8080/"
        },
        "id": "PeTBa19q0dSe",
        "outputId": "37186eb9-9d54-4321-8fc3-94825b11984c"
      },
      "execution_count": null,
      "outputs": [
        {
          "output_type": "execute_result",
          "data": {
            "text/plain": [
              "((55000, 28, 28), dtype('uint8'))"
            ]
          },
          "metadata": {},
          "execution_count": 174
        }
      ]
    },
    {
      "cell_type": "code",
      "source": [
        "# Shape and data type of the testing set\n",
        "X_test.shape, X_test.dtype"
      ],
      "metadata": {
        "colab": {
          "base_uri": "https://localhost:8080/"
        },
        "id": "iYpWldPZJi7b",
        "outputId": "371f0cf3-7243-4679-824a-e1393df7d4f0"
      },
      "execution_count": null,
      "outputs": [
        {
          "output_type": "execute_result",
          "data": {
            "text/plain": [
              "((10000, 28, 28), dtype('uint8'))"
            ]
          },
          "metadata": {},
          "execution_count": 129
        }
      ]
    },
    {
      "cell_type": "markdown",
      "source": [
        "### Data Visualization"
      ],
      "metadata": {
        "id": "UadaNHW1kdk2"
      }
    },
    {
      "cell_type": "code",
      "source": [
        "index = 42\n",
        "\n",
        "# Set number of characters per row when printing\n",
        "np.set_printoptions(linewidth = 320)\n",
        "\n",
        "# Print the label and image\n",
        "print(f\"Label: {y_train[index]}\")\n",
        "print(f\"\\nImage pixel array:\\n {X_train[index]}\")\n",
        "\n",
        "# Visualize the image\n",
        "plt.imshow(X_train[index])"
      ],
      "metadata": {
        "colab": {
          "base_uri": "https://localhost:8080/",
          "height": 820
        },
        "id": "LI0dVOG1jKyq",
        "outputId": "ddce3b60-6b13-4fd9-ff4f-b2b16025de16"
      },
      "execution_count": null,
      "outputs": [
        {
          "output_type": "stream",
          "name": "stdout",
          "text": [
            "Label: 9\n",
            "\n",
            "Image pixel array:\n",
            " [[  0   0   0   0   0   0   0   0   0   0   0   0   0   0   0   0   0   0   0   0   0   0   0   0   0   0   0   0]\n",
            " [  0   0   0   0   0   0   0   0   0   0   0   0   0   0   0   0   0   0   0   0   0   0   0   0   0   0   0   0]\n",
            " [  0   0   0   0   0   0   0   0   0   0   0   0   0   0   0   0   0   0   0   0   0   0   0   0   0   0   0   0]\n",
            " [  0   0   0   0   0   0   0   0   0   0   0   0   0   0   0   0   0   0   0   0   0   0   0   0   0   0   0   0]\n",
            " [  0   0   0   0   0   0   0   0   0   0   0   0   0   0   0   0   0   0   0   0   0   0   0   0   0   0   0   0]\n",
            " [  0   0   0   0   0   0   0   0   0   0   0   0   0   0   0   0  82 187  26   0   0   0   0   0   0   0   0   0]\n",
            " [  0   0   0   0   0   0   0   0   0   1   0   0   1   0   0 179 240 237 255 240 139  83  64  43  60  54   0   1]\n",
            " [  0   0   0   0   0   0   0   0   0   1   0   0   1   0  58 239 222 234 238 246 252 254 255 248 255 187   0   0]\n",
            " [  0   0   0   0   0   0   0   0   0   0   2   3   0   0 194 239 226 237 235 232 230 234 234 233 249 171   0   0]\n",
            " [  0   0   0   0   0   0   0   0   0   1   1   0   0  10 255 226 242 239 238 239 240 239 242 238 248 192   0   0]\n",
            " [  0   0   0   0   0   0   0   0   0   0   0   0   0 172 245 229 240 241 240 241 243 243 241 227 250 209   0   0]\n",
            " [  0   0   0   0   0   0   0   0   0   6   5   0  62 255 230 236 239 241 242 241 242 242 238 238 242 253   0   0]\n",
            " [  0   0   0   0   0   0   0   0   0   3   0   0 255 235 228 244 241 241 244 243 243 244 243 239 235 255  22   0]\n",
            " [  0   0   0   0   0   0   0   0   0   0   0 246 228 220 245 243 237 241 242 242 242 243 239 237 235 253 106   0]\n",
            " [  0   0   3   4   4   2   1   0   0  18 243 228 231 241 243 237 238 242 241 240 240 240 235 237 236 246 234   0]\n",
            " [  1   0   0   0   0   0   0   0  22 255 238 227 238 239 237 241 241 237 236 238 239 239 239 239 239 237 255   0]\n",
            " [  0   0   0   0   0  25  83 168 255 225 225 235 228 230 227 225 227 231 232 237 240 236 238 239 239 235 251  62]\n",
            " [  0 165 225 220 224 255 255 233 229 223 227 228 231 232 235 237 233 230 228 230 233 232 235 233 234 235 255  58]\n",
            " [ 52 251 221 226 227 225 225 225 226 226 225 227 231 229 232 239 245 250 251 252 254 254 252 254 252 235 255   0]\n",
            " [ 31 208 230 233 233 237 236 236 241 235 241 247 251 254 242 236 233 227 219 202 193 189 186 181 171 165 190  42]\n",
            " [ 77 199 172 188 199 202 218 219 220 229 234 222 213 209 207 210 203 184 152 171 165 162 162 167 168 157 192  78]\n",
            " [  0  45 101 140 159 174 182 186 185 188 195 197 188 175 133  70  19   0   0 209 231 218 222 224 227 217 229  93]\n",
            " [  0   0   0   0   0   0   2  24  37  45  32  18  11   0   0   0   0   0   0  72  51  53  37  34  29  31   5   0]\n",
            " [  0   0   0   0   0   0   0   0   0   0   0   0   0   0   0   0   0   0   0   0   0   0   0   0   0   0   0   0]\n",
            " [  0   0   0   0   0   0   0   0   0   0   0   0   0   0   0   0   0   0   0   0   0   0   0   0   0   0   0   0]\n",
            " [  0   0   0   0   0   0   0   0   0   0   0   0   0   0   0   0   0   0   0   0   0   0   0   0   0   0   0   0]\n",
            " [  0   0   0   0   0   0   0   0   0   0   0   0   0   0   0   0   0   0   0   0   0   0   0   0   0   0   0   0]\n",
            " [  0   0   0   0   0   0   0   0   0   0   0   0   0   0   0   0   0   0   0   0   0   0   0   0   0   0   0   0]]\n"
          ]
        },
        {
          "output_type": "execute_result",
          "data": {
            "text/plain": [
              "<matplotlib.image.AxesImage at 0x7f33029e1e20>"
            ]
          },
          "metadata": {},
          "execution_count": 176
        },
        {
          "output_type": "display_data",
          "data": {
            "text/plain": [
              "<Figure size 432x288 with 1 Axes>"
            ],
            "image/png": "[encoded data removed]"
          },
          "metadata": {
            "needs_background": "light"
          }
        }
      ]
    },
    {
      "cell_type": "code",
      "source": [
        "# Scale the pixel intensities down to the 0-1 range by dividing them by 255.0 (also converts them to floats)\n",
        "X_train, X_valid, X_test = X_train / 255.0, X_valid / 255.0, X_test / 255.0"
      ],
      "metadata": {
        "id": "yoRJrHsHLZ8t"
      },
      "execution_count": null,
      "outputs": []
    },
    {
      "cell_type": "code",
      "source": [
        "print(f\"Maximum value after pixel normalization: {np.max(X_train)}\")\n",
        "print(f\"Shape of the training set after reshaping: {X_train.shape}\")\n",
        "print(f\"Shape of one image after reshaping: {X_train[0].shape}\")"
      ],
      "metadata": {
        "colab": {
          "base_uri": "https://localhost:8080/"
        },
        "id": "qDmub8LF0p3i",
        "outputId": "0f1dd656-ecf5-4a82-e34a-5685c3a0fe35"
      },
      "execution_count": null,
      "outputs": [
        {
          "output_type": "stream",
          "name": "stdout",
          "text": [
            "Maximum value after pixel normalization: 1.0\n",
            "Shape of the training set after reshaping: (55000, 28, 28)\n",
            "Shape of one image after reshaping: (28, 28)\n"
          ]
        }
      ]
    },
    {
      "cell_type": "code",
      "source": [
        "# List of class names\n",
        "class_names = [\"T-shirt/top\", \"Trouser\", \"Pullover\", \"Dress\", \"Coat\", \"Sandal\", \"Shirt\", \"Sneaker\", \"Bag\", \"Ankle boot\"]\n",
        "\n",
        "# First image in the training set\n",
        "class_names[y_train[0]]"
      ],
      "metadata": {
        "colab": {
          "base_uri": "https://localhost:8080/",
          "height": 36
        },
        "id": "o3lhZgrE1PJ9",
        "outputId": "185a096e-ea4e-4477-c6aa-4f3852115974"
      },
      "execution_count": null,
      "outputs": [
        {
          "output_type": "execute_result",
          "data": {
            "text/plain": [
              "'Ankle boot'"
            ],
            "application/vnd.google.colaboratory.intrinsic+json": {
              "type": "string"
            }
          },
          "metadata": {},
          "execution_count": 132
        }
      ]
    },
    {
      "cell_type": "markdown",
      "source": [
        "### Defining callbacks for model training"
      ],
      "metadata": {
        "id": "WhjRbH78ID3O"
      }
    },
    {
      "cell_type": "code",
      "source": [
        "# Define a custom callback that stops training when accuracy is bigger than 95%  \n",
        "class AccStopCallback(tf.keras.callbacks.Callback):\n",
        "  def on_epoch_end(self, epoch, logs={}):\n",
        "    if (logs.get(\"accuracy\") is not None and logs.get(\"accuracy\")) >= 0.95:\n",
        "        print(\"Accuracy reached 99.5%, so stopping training!\")\n",
        "        self.model.stop_training = True\n",
        "\n",
        "acc_limit_cb = AccStopCallback()\n",
        "\n",
        "\n",
        "# Custom callback that displays the ratio between the validation loss and the training loss during training to detect overfitting\n",
        "class PrintValTrainRatioCallback(tf.keras.callbacks.Callback):\n",
        "  def on_epoch_end(self, epoch, logs = {}):\n",
        "    ratio = logs[\"val_loss\"] / logs[\"loss\"]\n",
        "    print(f\" Epoch = {epoch}, val/train = {ratio:.2f}\")\n",
        "\n",
        "val_train_ratio_cb = PrintValTrainRatioCallback() \n",
        "\n",
        "\n",
        "# Early Stopping callback\n",
        "early_stopping_cb = tf.keras.callbacks.EarlyStopping(patience = 20, restore_best_weights = True)\n",
        "\n",
        "\n",
        "# TensorBoard callback\n",
        "tensorboard_cb = tf.keras.callbacks.TensorBoard(run_logdir, profile_batch = (100, 200))"
      ],
      "metadata": {
        "id": "fDlh35awF1YC"
      },
      "execution_count": null,
      "outputs": []
    },
    {
      "cell_type": "markdown",
      "source": [
        "### 1. Simple NN Model"
      ],
      "metadata": {
        "id": "De5FjoD3rNxD"
      }
    },
    {
      "cell_type": "code",
      "source": [
        "# Building simple NN model using Sequential API\n",
        "\n",
        "tf.random.set_seed(42) # for results reproducibility\n",
        "\n",
        "model1 = tf.keras.Sequential([\n",
        "    tf.keras.layers.Input(shape = [28,28]),\n",
        "    tf.keras.layers.Flatten(),\n",
        "    tf.keras.layers.Dense(300, activation = \"relu\"),\n",
        "    tf.keras.layers.Dense(100, activation = \"relu\"),\n",
        "    tf.keras.layers.Dense(10, activation = \"softmax\")\n",
        "])\n",
        "\n",
        "# Compile the model\n",
        "model1.compile(loss = \"sparse_categorical_crossentropy\",\n",
        "               optimizer = tf.keras.optimizers.RMSprop(),\n",
        "               metrics = [\"accuracy\"])"
      ],
      "metadata": {
        "id": "d4HpR-zgrI6F"
      },
      "execution_count": null,
      "outputs": []
    },
    {
      "cell_type": "code",
      "source": [
        "# Summary of the model\n",
        "model1.summary()"
      ],
      "metadata": {
        "colab": {
          "base_uri": "https://localhost:8080/"
        },
        "id": "TvW6E7Ie18CT",
        "outputId": "b6806458-6425-4fa2-c9f1-da15c1385864"
      },
      "execution_count": null,
      "outputs": [
        {
          "output_type": "stream",
          "name": "stdout",
          "text": [
            "Model: \"sequential_7\"\n",
            "_________________________________________________________________\n",
            " Layer (type)                Output Shape              Param #   \n",
            "=================================================================\n",
            " flatten_14 (Flatten)        (None, 784)               0         \n",
            "                                                                 \n",
            " dense_93 (Dense)            (None, 300)               235500    \n",
            "                                                                 \n",
            " dense_94 (Dense)            (None, 100)               30100     \n",
            "                                                                 \n",
            " dense_95 (Dense)            (None, 10)                1010      \n",
            "                                                                 \n",
            "=================================================================\n",
            "Total params: 266,610\n",
            "Trainable params: 266,610\n",
            "Non-trainable params: 0\n",
            "_________________________________________________________________\n"
          ]
        }
      ]
    },
    {
      "cell_type": "code",
      "source": [
        "# Plot the model\n",
        "tf.keras.utils.plot_model(model1)"
      ],
      "metadata": {
        "colab": {
          "base_uri": "https://localhost:8080/",
          "height": 466
        },
        "id": "-L0s8Y0H2NF8",
        "outputId": "e9ad1e1a-ae2d-4681-8e45-880980f33298"
      },
      "execution_count": null,
      "outputs": [
        {
          "output_type": "execute_result",
          "data": {
            "image/png": "[encoded data removed]",
            "text/plain": [
              "<IPython.core.display.Image object>"
            ]
          },
          "metadata": {},
          "execution_count": 138
        }
      ]
    },
    {
      "cell_type": "markdown",
      "source": [
        "### Model Training & Evaluation"
      ],
      "metadata": {
        "id": "tUAr3Jxnw97I"
      }
    },
    {
      "cell_type": "code",
      "source": [
        "# Fit the model\n",
        "history = model1.fit(X_train, y_train, epochs = 100, validation_data = (X_valid, y_valid), callbacks = [tensorboard_cb, val_train_ratio_cb, early_stopping_cb])\n",
        "\n",
        "# Evaluate the model on test data\n",
        "# model1.evaluate(X_test, y_test)"
      ],
      "metadata": {
        "colab": {
          "base_uri": "https://localhost:8080/"
        },
        "id": "usEfl2sbw_S-",
        "outputId": "268a257a-853d-4ae5-b1a6-f8fc96c6d981"
      },
      "execution_count": null,
      "outputs": [
        {
          "output_type": "stream",
          "name": "stdout",
          "text": [
            "Epoch 1/100\n",
            "1716/1719 [============================>.] - ETA: 0s - loss: 0.1652 - accuracy: 0.9581 Epoch = 0, val/train = 16.32\n",
            "1719/1719 [==============================] - 15s 9ms/step - loss: 0.1651 - accuracy: 0.9581 - val_loss: 2.6938 - val_accuracy: 0.8826\n",
            "Epoch 2/100\n",
            "1717/1719 [============================>.] - ETA: 0s - loss: 0.1568 - accuracy: 0.9580 Epoch = 1, val/train = 17.87\n",
            "1719/1719 [==============================] - 13s 7ms/step - loss: 0.1567 - accuracy: 0.9580 - val_loss: 2.8000 - val_accuracy: 0.8868\n",
            "Epoch 3/100\n",
            "1713/1719 [============================>.] - ETA: 0s - loss: 0.1661 - accuracy: 0.9580 Epoch = 2, val/train = 17.88\n",
            "1719/1719 [==============================] - 12s 7ms/step - loss: 0.1659 - accuracy: 0.9581 - val_loss: 2.9666 - val_accuracy: 0.8782\n",
            "Epoch 4/100\n",
            "1716/1719 [============================>.] - ETA: 0s - loss: 0.1491 - accuracy: 0.9595 Epoch = 3, val/train = 18.55\n",
            "1719/1719 [==============================] - 13s 7ms/step - loss: 0.1489 - accuracy: 0.9596 - val_loss: 2.7623 - val_accuracy: 0.8862\n",
            "Epoch 5/100\n",
            "1713/1719 [============================>.] - ETA: 0s - loss: 0.1548 - accuracy: 0.9580 Epoch = 4, val/train = 17.55\n",
            "1719/1719 [==============================] - 13s 7ms/step - loss: 0.1578 - accuracy: 0.9580 - val_loss: 2.7689 - val_accuracy: 0.8754\n",
            "Epoch 6/100\n",
            "1718/1719 [============================>.] - ETA: 0s - loss: 0.1608 - accuracy: 0.9584 Epoch = 5, val/train = 17.20\n",
            "1719/1719 [==============================] - 13s 7ms/step - loss: 0.1607 - accuracy: 0.9584 - val_loss: 2.7641 - val_accuracy: 0.8820\n",
            "Epoch 7/100\n",
            "1715/1719 [============================>.] - ETA: 0s - loss: 0.1649 - accuracy: 0.9593 Epoch = 6, val/train = 16.68\n",
            "1719/1719 [==============================] - 15s 9ms/step - loss: 0.1650 - accuracy: 0.9593 - val_loss: 2.7536 - val_accuracy: 0.8846\n",
            "Epoch 8/100\n",
            "1717/1719 [============================>.] - ETA: 0s - loss: 0.1607 - accuracy: 0.9601 Epoch = 7, val/train = 18.14\n",
            "1719/1719 [==============================] - 14s 8ms/step - loss: 0.1607 - accuracy: 0.9601 - val_loss: 2.9153 - val_accuracy: 0.8870\n",
            "Epoch 9/100\n",
            "1718/1719 [============================>.] - ETA: 0s - loss: 0.1583 - accuracy: 0.9592 Epoch = 8, val/train = 18.25\n",
            "1719/1719 [==============================] - 13s 8ms/step - loss: 0.1582 - accuracy: 0.9592 - val_loss: 2.8873 - val_accuracy: 0.8792\n",
            "Epoch 10/100\n",
            "1719/1719 [==============================] - ETA: 0s - loss: 0.1589 - accuracy: 0.9604 Epoch = 9, val/train = 17.66\n",
            "1719/1719 [==============================] - 13s 8ms/step - loss: 0.1589 - accuracy: 0.9604 - val_loss: 2.8067 - val_accuracy: 0.8830\n",
            "Epoch 11/100\n",
            "1716/1719 [============================>.] - ETA: 0s - loss: 0.1567 - accuracy: 0.9606 Epoch = 10, val/train = 20.53\n",
            "1719/1719 [==============================] - 13s 8ms/step - loss: 0.1565 - accuracy: 0.9606 - val_loss: 3.2144 - val_accuracy: 0.8846\n",
            "Epoch 12/100\n",
            "1714/1719 [============================>.] - ETA: 0s - loss: 0.1598 - accuracy: 0.9604 Epoch = 11, val/train = 18.00\n",
            "1719/1719 [==============================] - 14s 8ms/step - loss: 0.1596 - accuracy: 0.9605 - val_loss: 2.8719 - val_accuracy: 0.8800\n",
            "Epoch 13/100\n",
            "1712/1719 [============================>.] - ETA: 0s - loss: 0.1568 - accuracy: 0.9604 Epoch = 12, val/train = 19.05\n",
            "1719/1719 [==============================] - 13s 8ms/step - loss: 0.1566 - accuracy: 0.9604 - val_loss: 2.9828 - val_accuracy: 0.8844\n",
            "Epoch 14/100\n",
            "1717/1719 [============================>.] - ETA: 0s - loss: 0.1629 - accuracy: 0.9615 Epoch = 13, val/train = 18.12\n",
            "1719/1719 [==============================] - 13s 7ms/step - loss: 0.1634 - accuracy: 0.9615 - val_loss: 2.9614 - val_accuracy: 0.8812\n",
            "Epoch 15/100\n",
            "1719/1719 [==============================] - ETA: 0s - loss: 0.1622 - accuracy: 0.9611 Epoch = 14, val/train = 18.68\n",
            "1719/1719 [==============================] - 13s 7ms/step - loss: 0.1622 - accuracy: 0.9611 - val_loss: 3.0289 - val_accuracy: 0.8788\n",
            "Epoch 16/100\n",
            "1719/1719 [==============================] - ETA: 0s - loss: 0.1572 - accuracy: 0.9609 Epoch = 15, val/train = 18.89\n",
            "1719/1719 [==============================] - 14s 8ms/step - loss: 0.1572 - accuracy: 0.9609 - val_loss: 2.9692 - val_accuracy: 0.8792\n",
            "Epoch 17/100\n",
            "1718/1719 [============================>.] - ETA: 0s - loss: 0.1439 - accuracy: 0.9611 Epoch = 16, val/train = 22.98\n",
            "1719/1719 [==============================] - 14s 8ms/step - loss: 0.1438 - accuracy: 0.9611 - val_loss: 3.3057 - val_accuracy: 0.8724\n",
            "Epoch 18/100\n",
            "1716/1719 [============================>.] - ETA: 0s - loss: 0.1470 - accuracy: 0.9614 Epoch = 17, val/train = 21.60\n",
            "1719/1719 [==============================] - 13s 8ms/step - loss: 0.1472 - accuracy: 0.9614 - val_loss: 3.1784 - val_accuracy: 0.8786\n",
            "Epoch 19/100\n",
            "1719/1719 [==============================] - ETA: 0s - loss: 0.1523 - accuracy: 0.9615 Epoch = 18, val/train = 20.03\n",
            "1719/1719 [==============================] - 15s 9ms/step - loss: 0.1523 - accuracy: 0.9615 - val_loss: 3.0509 - val_accuracy: 0.8736\n",
            "Epoch 20/100\n",
            "1717/1719 [============================>.] - ETA: 0s - loss: 0.1542 - accuracy: 0.9625 Epoch = 19, val/train = 19.20\n",
            "1719/1719 [==============================] - 15s 9ms/step - loss: 0.1541 - accuracy: 0.9625 - val_loss: 2.9596 - val_accuracy: 0.8814\n",
            "Epoch 21/100\n",
            "1719/1719 [==============================] - ETA: 0s - loss: 0.1644 - accuracy: 0.9612 Epoch = 20, val/train = 19.82\n",
            "1719/1719 [==============================] - 16s 9ms/step - loss: 0.1644 - accuracy: 0.9612 - val_loss: 3.2569 - val_accuracy: 0.8830\n"
          ]
        }
      ]
    },
    {
      "cell_type": "code",
      "source": [
        "history.params"
      ],
      "metadata": {
        "colab": {
          "base_uri": "https://localhost:8080/"
        },
        "id": "q9-tG6cZxKvW",
        "outputId": "2b1fb622-d127-4b8e-f79c-7757eba45304"
      },
      "execution_count": null,
      "outputs": [
        {
          "output_type": "execute_result",
          "data": {
            "text/plain": [
              "{'verbose': 1, 'epochs': 100, 'steps': 1719}"
            ]
          },
          "metadata": {},
          "execution_count": 148
        }
      ]
    },
    {
      "cell_type": "code",
      "source": [
        "pd.DataFrame(history.history).plot(\n",
        "    figsize = (8, 5), xlim = [0, 20], ylim = [0, 4], grid = True,\n",
        "    xlabel = \"Epoch\", style = ['r--', 'r--', 'b-', 'b-*'])\n",
        "plt.title(\"Learning curves\")\n",
        "plt.show()"
      ],
      "metadata": {
        "colab": {
          "base_uri": "https://localhost:8080/",
          "height": 350
        },
        "id": "xasAiro4y7kC",
        "outputId": "07517b35-2d20-44c1-fd29-b38a171a35c7"
      },
      "execution_count": null,
      "outputs": [
        {
          "output_type": "display_data",
          "data": {
            "text/plain": [
              "<Figure size 576x360 with 1 Axes>"
            ],
            "image/png": "[encoded data removed]"
          },
          "metadata": {
            "needs_background": "light"
          }
        }
      ]
    },
    {
      "cell_type": "markdown",
      "source": [
        "Looks like the first model has overfitted the training data."
      ],
      "metadata": {
        "id": "enYaDqIhW2kF"
      }
    },
    {
      "cell_type": "code",
      "source": [
        "# Save the model\n",
        "model1.save(\"model_1\", save_format = \"tf\")"
      ],
      "metadata": {
        "id": "6SBcPFf4gYWR"
      },
      "execution_count": null,
      "outputs": []
    },
    {
      "cell_type": "markdown",
      "source": [
        "### 2. Simple Convolutional Model"
      ],
      "metadata": {
        "id": "OGwg43UlBUBw"
      }
    },
    {
      "cell_type": "code",
      "source": [
        "# Set the random seed\n",
        "tf.random.set_seed(42)\n",
        "\n",
        "# Create a model\n",
        "model2 = tf.keras.Sequential([\n",
        "    tf.keras.layers.Conv2D(16, (3, 3), activation = \"relu\", input_shape = (28, 28, 1)),\n",
        "    tf.keras.layers.MaxPooling2D(2, 2),\n",
        "    tf.keras.layers.Conv2D(32, (3, 3), activation = \"relu\"),\n",
        "    tf.keras.layers.MaxPooling2D(2, 2),\n",
        "    tf.keras.layers.Conv2D(32, (3, 3), activation = \"relu\"),\n",
        "    tf.keras.layers.MaxPooling2D(2, 2),\n",
        "\n",
        "    tf.keras.layers.Flatten(),\n",
        "    tf.keras.layers.Dense(128, activation = \"relu\"),\n",
        "    tf.keras.layers.Dense(10, activation = \"softmax\")\n",
        "])\n",
        "\n",
        "# Compile the model\n",
        "model2.compile(loss = \"sparse_categorical_crossentropy\",\n",
        "               optimizer = \"adam\",\n",
        "               metrics = [\"accuracy\"])"
      ],
      "metadata": {
        "id": "UhC3Gq2ZBX4N"
      },
      "execution_count": null,
      "outputs": []
    },
    {
      "cell_type": "code",
      "source": [
        "model2.summary()"
      ],
      "metadata": {
        "colab": {
          "base_uri": "https://localhost:8080/"
        },
        "id": "NjY4O8VOoWhb",
        "outputId": "63ad353c-fbf1-4655-ef70-8bbbe20b37d7"
      },
      "execution_count": null,
      "outputs": [
        {
          "output_type": "stream",
          "name": "stdout",
          "text": [
            "Model: \"sequential_10\"\n",
            "_________________________________________________________________\n",
            " Layer (type)                Output Shape              Param #   \n",
            "=================================================================\n",
            " conv2d_18 (Conv2D)          (None, 26, 26, 16)        160       \n",
            "                                                                 \n",
            " max_pooling2d_18 (MaxPoolin  (None, 13, 13, 16)       0         \n",
            " g2D)                                                            \n",
            "                                                                 \n",
            " conv2d_19 (Conv2D)          (None, 11, 11, 32)        4640      \n",
            "                                                                 \n",
            " max_pooling2d_19 (MaxPoolin  (None, 5, 5, 32)         0         \n",
            " g2D)                                                            \n",
            "                                                                 \n",
            " conv2d_20 (Conv2D)          (None, 3, 3, 32)          9248      \n",
            "                                                                 \n",
            " max_pooling2d_20 (MaxPoolin  (None, 1, 1, 32)         0         \n",
            " g2D)                                                            \n",
            "                                                                 \n",
            " flatten_17 (Flatten)        (None, 32)                0         \n",
            "                                                                 \n",
            " dense_101 (Dense)           (None, 128)               4224      \n",
            "                                                                 \n",
            " dense_102 (Dense)           (None, 10)                1290      \n",
            "                                                                 \n",
            "=================================================================\n",
            "Total params: 19,562\n",
            "Trainable params: 19,562\n",
            "Non-trainable params: 0\n",
            "_________________________________________________________________\n"
          ]
        }
      ]
    },
    {
      "cell_type": "code",
      "source": [
        "tf.keras.utils.plot_model(model2)"
      ],
      "metadata": {
        "colab": {
          "base_uri": "https://localhost:8080/",
          "height": 953
        },
        "id": "hQxd0H8vocLk",
        "outputId": "40103219-93e2-4dd0-b6bd-5dc67da2762f"
      },
      "execution_count": null,
      "outputs": [
        {
          "output_type": "execute_result",
          "data": {
            "image/png": "[encoded data removed]",
            "text/plain": [
              "<IPython.core.display.Image object>"
            ]
          },
          "metadata": {},
          "execution_count": 181
        }
      ]
    },
    {
      "cell_type": "code",
      "source": [
        "# Train the model\n",
        "history = model2.fit(X_train, y_train, epochs = 100, validation_data = (X_valid, y_valid), callbacks = [tensorboard_cb, val_train_ratio_cb, early_stopping_cb])\n",
        "\n",
        "# Evaluate the model on the test data\n",
        "# model.evaluate(X_test, y_test)"
      ],
      "metadata": {
        "colab": {
          "base_uri": "https://localhost:8080/"
        },
        "id": "NAAX-ny-Cq7A",
        "outputId": "e537c099-1387-4bee-c46f-64cca0536037"
      },
      "execution_count": null,
      "outputs": [
        {
          "output_type": "stream",
          "name": "stdout",
          "text": [
            "Epoch 1/100\n",
            "1719/1719 [==============================] - ETA: 0s - loss: 0.5278 - accuracy: 0.8071 Epoch = 0, val/train = 0.89\n",
            "1719/1719 [==============================] - 42s 24ms/step - loss: 0.5278 - accuracy: 0.8071 - val_loss: 0.4702 - val_accuracy: 0.8318\n",
            "Epoch 2/100\n",
            "1719/1719 [==============================] - ETA: 0s - loss: 0.4394 - accuracy: 0.8383 Epoch = 1, val/train = 1.01\n",
            "1719/1719 [==============================] - 40s 24ms/step - loss: 0.4394 - accuracy: 0.8383 - val_loss: 0.4432 - val_accuracy: 0.8356\n",
            "Epoch 3/100\n",
            "1718/1719 [============================>.] - ETA: 0s - loss: 0.3947 - accuracy: 0.8551 Epoch = 2, val/train = 1.03\n",
            "1719/1719 [==============================] - 40s 23ms/step - loss: 0.3948 - accuracy: 0.8551 - val_loss: 0.4063 - val_accuracy: 0.8538\n",
            "Epoch 4/100\n",
            "1717/1719 [============================>.] - ETA: 0s - loss: 0.3639 - accuracy: 0.8670 Epoch = 3, val/train = 1.02\n",
            "1719/1719 [==============================] - 44s 26ms/step - loss: 0.3640 - accuracy: 0.8669 - val_loss: 0.3701 - val_accuracy: 0.8592\n",
            "Epoch 5/100\n",
            "1718/1719 [============================>.] - ETA: 0s - loss: 0.3390 - accuracy: 0.8752 Epoch = 4, val/train = 1.00\n",
            "1719/1719 [==============================] - 41s 24ms/step - loss: 0.3391 - accuracy: 0.8752 - val_loss: 0.3382 - val_accuracy: 0.8762\n",
            "Epoch 6/100\n",
            "1717/1719 [============================>.] - ETA: 0s - loss: 0.3213 - accuracy: 0.8805 Epoch = 5, val/train = 1.10\n",
            "1719/1719 [==============================] - 42s 24ms/step - loss: 0.3213 - accuracy: 0.8805 - val_loss: 0.3522 - val_accuracy: 0.8742\n",
            "Epoch 7/100\n",
            "1718/1719 [============================>.] - ETA: 0s - loss: 0.3019 - accuracy: 0.8887 Epoch = 6, val/train = 1.12\n",
            "1719/1719 [==============================] - 40s 23ms/step - loss: 0.3019 - accuracy: 0.8887 - val_loss: 0.3368 - val_accuracy: 0.8740\n",
            "Epoch 8/100\n",
            "1718/1719 [============================>.] - ETA: 0s - loss: 0.2899 - accuracy: 0.8926 Epoch = 7, val/train = 1.13\n",
            "1719/1719 [==============================] - 41s 24ms/step - loss: 0.2899 - accuracy: 0.8927 - val_loss: 0.3263 - val_accuracy: 0.8782\n",
            "Epoch 9/100\n",
            "1718/1719 [============================>.] - ETA: 0s - loss: 0.2802 - accuracy: 0.8962 Epoch = 8, val/train = 1.24\n",
            "1719/1719 [==============================] - 41s 24ms/step - loss: 0.2803 - accuracy: 0.8962 - val_loss: 0.3466 - val_accuracy: 0.8716\n",
            "Epoch 10/100\n",
            "1717/1719 [============================>.] - ETA: 0s - loss: 0.2701 - accuracy: 0.8992 Epoch = 9, val/train = 1.22\n",
            "1719/1719 [==============================] - 42s 24ms/step - loss: 0.2700 - accuracy: 0.8992 - val_loss: 0.3282 - val_accuracy: 0.8800\n",
            "Epoch 11/100\n",
            "1718/1719 [============================>.] - ETA: 0s - loss: 0.2587 - accuracy: 0.9032 Epoch = 10, val/train = 1.31\n",
            "1719/1719 [==============================] - 40s 24ms/step - loss: 0.2587 - accuracy: 0.9031 - val_loss: 0.3391 - val_accuracy: 0.8828\n",
            "Epoch 12/100\n",
            "1717/1719 [============================>.] - ETA: 0s - loss: 0.2516 - accuracy: 0.9055 Epoch = 11, val/train = 1.24\n",
            "1719/1719 [==============================] - 41s 24ms/step - loss: 0.2514 - accuracy: 0.9055 - val_loss: 0.3106 - val_accuracy: 0.8822\n",
            "Epoch 13/100\n",
            "1718/1719 [============================>.] - ETA: 0s - loss: 0.2438 - accuracy: 0.9091 Epoch = 12, val/train = 1.29\n",
            "1719/1719 [==============================] - 42s 24ms/step - loss: 0.2438 - accuracy: 0.9091 - val_loss: 0.3146 - val_accuracy: 0.8878\n",
            "Epoch 14/100\n",
            "1719/1719 [==============================] - ETA: 0s - loss: 0.2376 - accuracy: 0.9108 Epoch = 13, val/train = 1.37\n",
            "1719/1719 [==============================] - 41s 24ms/step - loss: 0.2376 - accuracy: 0.9108 - val_loss: 0.3261 - val_accuracy: 0.8830\n",
            "Epoch 15/100\n",
            "1717/1719 [============================>.] - ETA: 0s - loss: 0.2310 - accuracy: 0.9132 Epoch = 14, val/train = 1.41\n",
            "1719/1719 [==============================] - 41s 24ms/step - loss: 0.2308 - accuracy: 0.9132 - val_loss: 0.3251 - val_accuracy: 0.8790\n",
            "Epoch 16/100\n",
            "1719/1719 [==============================] - ETA: 0s - loss: 0.2245 - accuracy: 0.9152 Epoch = 15, val/train = 1.44\n",
            "1719/1719 [==============================] - 42s 24ms/step - loss: 0.2245 - accuracy: 0.9152 - val_loss: 0.3237 - val_accuracy: 0.8838\n",
            "Epoch 17/100\n",
            "1719/1719 [==============================] - ETA: 0s - loss: 0.2183 - accuracy: 0.9181 Epoch = 16, val/train = 1.50\n",
            "1719/1719 [==============================] - 43s 25ms/step - loss: 0.2183 - accuracy: 0.9181 - val_loss: 0.3266 - val_accuracy: 0.8828\n",
            "Epoch 18/100\n",
            "1719/1719 [==============================] - ETA: 0s - loss: 0.2141 - accuracy: 0.9192 Epoch = 17, val/train = 1.52\n",
            "1719/1719 [==============================] - 42s 25ms/step - loss: 0.2141 - accuracy: 0.9192 - val_loss: 0.3258 - val_accuracy: 0.8840\n",
            "Epoch 19/100\n",
            "1719/1719 [==============================] - ETA: 0s - loss: 0.2088 - accuracy: 0.9220 Epoch = 18, val/train = 1.64\n",
            "1719/1719 [==============================] - 43s 25ms/step - loss: 0.2088 - accuracy: 0.9220 - val_loss: 0.3415 - val_accuracy: 0.8812\n",
            "Epoch 20/100\n",
            "1719/1719 [==============================] - ETA: 0s - loss: 0.2043 - accuracy: 0.9217 Epoch = 19, val/train = 1.66\n",
            "1719/1719 [==============================] - 55s 32ms/step - loss: 0.2043 - accuracy: 0.9217 - val_loss: 0.3402 - val_accuracy: 0.8850\n",
            "Epoch 21/100\n",
            "1719/1719 [==============================] - ETA: 0s - loss: 0.1977 - accuracy: 0.9251 Epoch = 20, val/train = 1.72\n",
            "1719/1719 [==============================] - 40s 24ms/step - loss: 0.1977 - accuracy: 0.9251 - val_loss: 0.3397 - val_accuracy: 0.8854\n",
            "Epoch 22/100\n",
            "1719/1719 [==============================] - ETA: 0s - loss: 0.1958 - accuracy: 0.9266 Epoch = 21, val/train = 1.72\n",
            "1719/1719 [==============================] - 42s 24ms/step - loss: 0.1958 - accuracy: 0.9266 - val_loss: 0.3370 - val_accuracy: 0.8826\n",
            "Epoch 23/100\n",
            "1718/1719 [============================>.] - ETA: 0s - loss: 0.1911 - accuracy: 0.9275 Epoch = 22, val/train = 1.80\n",
            "1719/1719 [==============================] - 42s 25ms/step - loss: 0.1911 - accuracy: 0.9275 - val_loss: 0.3430 - val_accuracy: 0.8848\n",
            "Epoch 24/100\n",
            "1719/1719 [==============================] - ETA: 0s - loss: 0.1855 - accuracy: 0.9293 Epoch = 23, val/train = 1.87\n",
            "1719/1719 [==============================] - 41s 24ms/step - loss: 0.1855 - accuracy: 0.9293 - val_loss: 0.3464 - val_accuracy: 0.8838\n",
            "Epoch 25/100\n",
            "1718/1719 [============================>.] - ETA: 0s - loss: 0.1823 - accuracy: 0.9307 Epoch = 24, val/train = 1.91\n",
            "1719/1719 [==============================] - 42s 25ms/step - loss: 0.1823 - accuracy: 0.9306 - val_loss: 0.3482 - val_accuracy: 0.8810\n",
            "Epoch 26/100\n",
            "1719/1719 [==============================] - ETA: 0s - loss: 0.1783 - accuracy: 0.9328 Epoch = 25, val/train = 2.12\n",
            "1719/1719 [==============================] - 41s 24ms/step - loss: 0.1783 - accuracy: 0.9328 - val_loss: 0.3773 - val_accuracy: 0.8800\n",
            "Epoch 27/100\n",
            "1719/1719 [==============================] - ETA: 0s - loss: 0.1757 - accuracy: 0.9329 Epoch = 26, val/train = 2.13\n",
            "1719/1719 [==============================] - 41s 24ms/step - loss: 0.1757 - accuracy: 0.9329 - val_loss: 0.3739 - val_accuracy: 0.8836\n",
            "Epoch 28/100\n",
            "1717/1719 [============================>.] - ETA: 0s - loss: 0.1717 - accuracy: 0.9337 Epoch = 27, val/train = 2.31\n",
            "1719/1719 [==============================] - 43s 25ms/step - loss: 0.1716 - accuracy: 0.9337 - val_loss: 0.3958 - val_accuracy: 0.8812\n",
            "Epoch 29/100\n",
            "1718/1719 [============================>.] - ETA: 0s - loss: 0.1686 - accuracy: 0.9358 Epoch = 28, val/train = 2.22\n",
            "1719/1719 [==============================] - 42s 24ms/step - loss: 0.1687 - accuracy: 0.9358 - val_loss: 0.3745 - val_accuracy: 0.8816\n",
            "Epoch 30/100\n",
            "1718/1719 [============================>.] - ETA: 0s - loss: 0.1648 - accuracy: 0.9367 Epoch = 29, val/train = 2.46\n",
            "1719/1719 [==============================] - 39s 23ms/step - loss: 0.1647 - accuracy: 0.9367 - val_loss: 0.4061 - val_accuracy: 0.8764\n",
            "Epoch 31/100\n",
            "1719/1719 [==============================] - ETA: 0s - loss: 0.1633 - accuracy: 0.9371 Epoch = 30, val/train = 2.50\n",
            "1719/1719 [==============================] - 40s 23ms/step - loss: 0.1633 - accuracy: 0.9371 - val_loss: 0.4077 - val_accuracy: 0.8796\n",
            "Epoch 32/100\n",
            "1718/1719 [============================>.] - ETA: 0s - loss: 0.1604 - accuracy: 0.9388 Epoch = 31, val/train = 2.47\n",
            "1719/1719 [==============================] - 41s 24ms/step - loss: 0.1604 - accuracy: 0.9388 - val_loss: 0.3965 - val_accuracy: 0.8810\n"
          ]
        }
      ]
    },
    {
      "cell_type": "code",
      "source": [
        "pd.DataFrame(history.history).plot(\n",
        "    figsize = (8, 5), xlim = [0, 29], ylim = [0, 1], grid = True, \n",
        "    xlabel = \"Epoch\", style = ['r--', 'r-*', 'b-', 'b-*'])\n",
        "\n",
        "plt.title(\"Learning curves\")\n",
        "plt.show()"
      ],
      "metadata": {
        "colab": {
          "base_uri": "https://localhost:8080/",
          "height": 350
        },
        "id": "HsG2o1PuDLdH",
        "outputId": "113375a8-1712-4c4b-b291-795a484d7f32"
      },
      "execution_count": null,
      "outputs": [
        {
          "output_type": "display_data",
          "data": {
            "text/plain": [
              "<Figure size 576x360 with 1 Axes>"
            ],
            "image/png": "[encoded data removed]"
          },
          "metadata": {
            "needs_background": "light"
          }
        }
      ]
    },
    {
      "cell_type": "code",
      "source": [
        "# Save the model\n",
        "model2.save(\"model_2\", save_format = \"tf\")"
      ],
      "metadata": {
        "colab": {
          "base_uri": "https://localhost:8080/"
        },
        "id": "TXswQzRdhE7a",
        "outputId": "82067c48-4a3f-4141-add3-39361b317ea1"
      },
      "execution_count": null,
      "outputs": [
        {
          "output_type": "stream",
          "name": "stderr",
          "text": [
            "WARNING:absl:Found untraced functions such as _jit_compiled_convolution_op, _jit_compiled_convolution_op, _jit_compiled_convolution_op while saving (showing 3 of 3). These functions will not be directly callable after loading.\n"
          ]
        }
      ]
    },
    {
      "cell_type": "markdown",
      "source": [
        "### 3. Simple NN Model with Batch Normalization"
      ],
      "metadata": {
        "id": "b1miW5ERBzdA"
      }
    },
    {
      "cell_type": "code",
      "source": [
        "model3 = tf.keras.Sequential([\n",
        "    tf.keras.layers.Flatten(input_shape = [28, 28]),\n",
        "    tf.keras.layers.BatchNormalization(),\n",
        "    tf.keras.layers.Dense(300, activation = \"relu\",\n",
        "                          kernel_initializer = \"he_normal\"),\n",
        "    tf.keras.layers.BatchNormalization(),\n",
        "    tf.keras.layers.Dense(100, activation = \"relu\",\n",
        "                          kernel_initializer = \"he_normal\"),\n",
        "    tf.keras.layers.BatchNormalization(),\n",
        "    tf.keras.layers.Dense(10, activation = \"softmax\")\n",
        "])\n",
        "\n",
        "model3.compile(loss = \"sparse_categorical_crossentropy\",\n",
        "               optimizer = \"adam\",\n",
        "               metrics = ['accuracy'])"
      ],
      "metadata": {
        "id": "nTdqnGjABzNE"
      },
      "execution_count": 182,
      "outputs": []
    },
    {
      "cell_type": "code",
      "source": [
        "model3.summary()"
      ],
      "metadata": {
        "colab": {
          "base_uri": "https://localhost:8080/"
        },
        "id": "tZTM_Zg0CJkZ",
        "outputId": "fa14f4da-a435-48ed-81c6-6bfa44386f11"
      },
      "execution_count": 183,
      "outputs": [
        {
          "output_type": "stream",
          "name": "stdout",
          "text": [
            "Model: \"sequential_11\"\n",
            "_________________________________________________________________\n",
            " Layer (type)                Output Shape              Param #   \n",
            "=================================================================\n",
            " flatten_18 (Flatten)        (None, 784)               0         \n",
            "                                                                 \n",
            " batch_normalization (BatchN  (None, 784)              3136      \n",
            " ormalization)                                                   \n",
            "                                                                 \n",
            " dense_103 (Dense)           (None, 300)               235500    \n",
            "                                                                 \n",
            " batch_normalization_1 (Batc  (None, 300)              1200      \n",
            " hNormalization)                                                 \n",
            "                                                                 \n",
            " dense_104 (Dense)           (None, 100)               30100     \n",
            "                                                                 \n",
            " batch_normalization_2 (Batc  (None, 100)              400       \n",
            " hNormalization)                                                 \n",
            "                                                                 \n",
            " dense_105 (Dense)           (None, 10)                1010      \n",
            "                                                                 \n",
            "=================================================================\n",
            "Total params: 271,346\n",
            "Trainable params: 268,978\n",
            "Non-trainable params: 2,368\n",
            "_________________________________________________________________\n"
          ]
        }
      ]
    },
    {
      "cell_type": "code",
      "source": [
        "tf.keras.utils.plot_model(model3)"
      ],
      "metadata": {
        "colab": {
          "base_uri": "https://localhost:8080/",
          "height": 758
        },
        "id": "-mIU-tm0CQpo",
        "outputId": "5b606efe-c645-481c-9e55-af6f22da142d"
      },
      "execution_count": 184,
      "outputs": [
        {
          "output_type": "execute_result",
          "data": {
            "image/png": "[encoded data removed]",
            "text/plain": [
              "<IPython.core.display.Image object>"
            ]
          },
          "metadata": {},
          "execution_count": 184
        }
      ]
    },
    {
      "cell_type": "code",
      "source": [
        "# Train the model\n",
        "history = model3.fit(X_train, y_train, epochs = 100, validation_data = (X_valid, y_valid), callbacks = [tensorboard_cb, val_train_ratio_cb, early_stopping_cb])"
      ],
      "metadata": {
        "colab": {
          "base_uri": "https://localhost:8080/"
        },
        "id": "NS_kZUMoCXJM",
        "outputId": "30184bde-e65c-4489-ee82-4036ac8e8ee6"
      },
      "execution_count": 185,
      "outputs": [
        {
          "output_type": "stream",
          "name": "stdout",
          "text": [
            "Epoch 1/100\n",
            "1714/1719 [============================>.] - ETA: 0s - loss: 0.4727 - accuracy: 0.8308 Epoch = 0, val/train = 0.74\n",
            "1719/1719 [==============================] - 19s 10ms/step - loss: 0.4725 - accuracy: 0.8309 - val_loss: 0.3490 - val_accuracy: 0.8662\n",
            "Epoch 2/100\n",
            "1715/1719 [============================>.] - ETA: 0s - loss: 0.3640 - accuracy: 0.8663 Epoch = 1, val/train = 0.99\n",
            "1719/1719 [==============================] - 23s 14ms/step - loss: 0.3638 - accuracy: 0.8665 - val_loss: 0.3599 - val_accuracy: 0.8646\n",
            "Epoch 3/100\n",
            "1715/1719 [============================>.] - ETA: 0s - loss: 0.3301 - accuracy: 0.8785 Epoch = 2, val/train = 1.03\n",
            "1719/1719 [==============================] - 22s 13ms/step - loss: 0.3300 - accuracy: 0.8785 - val_loss: 0.3394 - val_accuracy: 0.8768\n",
            "Epoch 4/100\n",
            "1717/1719 [============================>.] - ETA: 0s - loss: 0.3021 - accuracy: 0.8884 Epoch = 3, val/train = 1.02\n",
            "1719/1719 [==============================] - 16s 9ms/step - loss: 0.3021 - accuracy: 0.8885 - val_loss: 0.3083 - val_accuracy: 0.8814\n",
            "Epoch 5/100\n",
            "1719/1719 [==============================] - ETA: 0s - loss: 0.2818 - accuracy: 0.8953 Epoch = 4, val/train = 1.11\n",
            "1719/1719 [==============================] - 16s 9ms/step - loss: 0.2818 - accuracy: 0.8953 - val_loss: 0.3120 - val_accuracy: 0.8854\n",
            "Epoch 6/100\n",
            "1715/1719 [============================>.] - ETA: 0s - loss: 0.2645 - accuracy: 0.9010 Epoch = 5, val/train = 1.29\n",
            "1719/1719 [==============================] - 16s 9ms/step - loss: 0.2647 - accuracy: 0.9009 - val_loss: 0.3419 - val_accuracy: 0.8806\n",
            "Epoch 7/100\n",
            "1718/1719 [============================>.] - ETA: 0s - loss: 0.2501 - accuracy: 0.9057 Epoch = 6, val/train = 1.26\n",
            "1719/1719 [==============================] - 16s 9ms/step - loss: 0.2502 - accuracy: 0.9057 - val_loss: 0.3157 - val_accuracy: 0.8908\n",
            "Epoch 8/100\n",
            "1718/1719 [============================>.] - ETA: 0s - loss: 0.2374 - accuracy: 0.9109 Epoch = 7, val/train = 1.35\n",
            "1719/1719 [==============================] - 17s 10ms/step - loss: 0.2373 - accuracy: 0.9109 - val_loss: 0.3214 - val_accuracy: 0.8872\n",
            "Epoch 9/100\n",
            "1715/1719 [============================>.] - ETA: 0s - loss: 0.2284 - accuracy: 0.9151 Epoch = 8, val/train = 1.45\n",
            "1719/1719 [==============================] - 16s 9ms/step - loss: 0.2284 - accuracy: 0.9151 - val_loss: 0.3302 - val_accuracy: 0.8842\n",
            "Epoch 10/100\n",
            "1716/1719 [============================>.] - ETA: 0s - loss: 0.2179 - accuracy: 0.9182 Epoch = 9, val/train = 1.45\n",
            "1719/1719 [==============================] - 17s 10ms/step - loss: 0.2178 - accuracy: 0.9182 - val_loss: 0.3154 - val_accuracy: 0.8894\n",
            "Epoch 11/100\n",
            "1718/1719 [============================>.] - ETA: 0s - loss: 0.2098 - accuracy: 0.9205 Epoch = 10, val/train = 1.50\n",
            "1719/1719 [==============================] - 18s 11ms/step - loss: 0.2098 - accuracy: 0.9205 - val_loss: 0.3150 - val_accuracy: 0.8934\n",
            "Epoch 12/100\n",
            "1719/1719 [==============================] - ETA: 0s - loss: 0.1970 - accuracy: 0.9253 Epoch = 11, val/train = 1.65\n",
            "1719/1719 [==============================] - 18s 10ms/step - loss: 0.1970 - accuracy: 0.9253 - val_loss: 0.3257 - val_accuracy: 0.8892\n",
            "Epoch 13/100\n",
            "1718/1719 [============================>.] - ETA: 0s - loss: 0.1909 - accuracy: 0.9271 Epoch = 12, val/train = 1.62\n",
            "1719/1719 [==============================] - 16s 10ms/step - loss: 0.1908 - accuracy: 0.9271 - val_loss: 0.3093 - val_accuracy: 0.8950\n",
            "Epoch 14/100\n",
            "1717/1719 [============================>.] - ETA: 0s - loss: 0.1845 - accuracy: 0.9309 Epoch = 13, val/train = 1.77\n",
            "1719/1719 [==============================] - 16s 9ms/step - loss: 0.1846 - accuracy: 0.9309 - val_loss: 0.3267 - val_accuracy: 0.8934\n",
            "Epoch 15/100\n",
            "1716/1719 [============================>.] - ETA: 0s - loss: 0.1789 - accuracy: 0.9328 Epoch = 14, val/train = 1.77\n",
            "1719/1719 [==============================] - 16s 10ms/step - loss: 0.1789 - accuracy: 0.9328 - val_loss: 0.3163 - val_accuracy: 0.8950\n",
            "Epoch 16/100\n",
            "1719/1719 [==============================] - ETA: 0s - loss: 0.1693 - accuracy: 0.9360 Epoch = 15, val/train = 2.20\n",
            "1719/1719 [==============================] - 17s 10ms/step - loss: 0.1693 - accuracy: 0.9360 - val_loss: 0.3722 - val_accuracy: 0.8878\n",
            "Epoch 17/100\n",
            "1714/1719 [============================>.] - ETA: 0s - loss: 0.1667 - accuracy: 0.9364 Epoch = 16, val/train = 1.98\n",
            "1719/1719 [==============================] - 16s 9ms/step - loss: 0.1666 - accuracy: 0.9364 - val_loss: 0.3299 - val_accuracy: 0.8952\n",
            "Epoch 18/100\n",
            "1716/1719 [============================>.] - ETA: 0s - loss: 0.1588 - accuracy: 0.9398 Epoch = 17, val/train = 2.20\n",
            "1719/1719 [==============================] - 16s 9ms/step - loss: 0.1587 - accuracy: 0.9398 - val_loss: 0.3490 - val_accuracy: 0.8914\n",
            "Epoch 19/100\n",
            "1718/1719 [============================>.] - ETA: 0s - loss: 0.1526 - accuracy: 0.9422 Epoch = 18, val/train = 2.16\n",
            "1719/1719 [==============================] - 16s 9ms/step - loss: 0.1527 - accuracy: 0.9421 - val_loss: 0.3305 - val_accuracy: 0.8896\n",
            "Epoch 20/100\n",
            "1719/1719 [==============================] - ETA: 0s - loss: 0.1472 - accuracy: 0.9438 Epoch = 19, val/train = 2.40\n",
            "1719/1719 [==============================] - 15s 9ms/step - loss: 0.1472 - accuracy: 0.9438 - val_loss: 0.3536 - val_accuracy: 0.8938\n",
            "Epoch 21/100\n",
            "1716/1719 [============================>.] - ETA: 0s - loss: 0.1431 - accuracy: 0.9454 Epoch = 20, val/train = 2.38\n",
            "1719/1719 [==============================] - 16s 10ms/step - loss: 0.1432 - accuracy: 0.9454 - val_loss: 0.3413 - val_accuracy: 0.8942\n",
            "Epoch 22/100\n",
            "1715/1719 [============================>.] - ETA: 0s - loss: 0.1410 - accuracy: 0.9465 Epoch = 21, val/train = 2.70\n",
            "1719/1719 [==============================] - 16s 9ms/step - loss: 0.1413 - accuracy: 0.9464 - val_loss: 0.3814 - val_accuracy: 0.8942\n",
            "Epoch 23/100\n",
            "1714/1719 [============================>.] - ETA: 0s - loss: 0.1363 - accuracy: 0.9483 Epoch = 22, val/train = 2.59\n",
            "1719/1719 [==============================] - 16s 9ms/step - loss: 0.1363 - accuracy: 0.9483 - val_loss: 0.3529 - val_accuracy: 0.8920\n",
            "Epoch 24/100\n",
            "1714/1719 [============================>.] - ETA: 0s - loss: 0.1311 - accuracy: 0.9499 Epoch = 23, val/train = 2.81\n",
            "1719/1719 [==============================] - 16s 9ms/step - loss: 0.1312 - accuracy: 0.9498 - val_loss: 0.3684 - val_accuracy: 0.8928\n"
          ]
        }
      ]
    },
    {
      "cell_type": "code",
      "source": [
        "pd.DataFrame(history.history).plot(\n",
        "    figsize = (8, 5), xlim = [0, 29], ylim = [0, 1], grid = True, \n",
        "    xlabel = \"Epoch\", style = ['r--', 'r-*', 'b-', 'b-*'])\n",
        "\n",
        "plt.title(\"Learning curves\")\n",
        "plt.show()"
      ],
      "metadata": {
        "id": "qJhJOvEInJZ2",
        "colab": {
          "base_uri": "https://localhost:8080/",
          "height": 350
        },
        "outputId": "e9b21bec-e49b-4cb9-9b80-0fd4ff98262d"
      },
      "execution_count": 186,
      "outputs": [
        {
          "output_type": "display_data",
          "data": {
            "text/plain": [
              "<Figure size 576x360 with 1 Axes>"
            ],
            "image/png": "[encoded data removed]"
          },
          "metadata": {
            "needs_background": "light"
          }
        }
      ]
    },
    {
      "cell_type": "code",
      "source": [
        "model3.save(\"model_3\", save_format = \"tf\")"
      ],
      "metadata": {
        "id": "5A8XRAjeCnIg"
      },
      "execution_count": 187,
      "outputs": []
    },
    {
      "cell_type": "markdown",
      "source": [
        "### Next steps:\n",
        "* built a couple more models for better comparison\n",
        "* hyperparameter tuning\n",
        "* introducing TensorBoard for better visualisations\n",
        "* evaluation using more metrics"
      ],
      "metadata": {
        "id": "xoSAusTGm2Q5"
      }
    }
  ]
}